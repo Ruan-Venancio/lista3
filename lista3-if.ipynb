{
 "cells": [
  {
   "cell_type": "markdown",
   "id": "8a840eed",
   "metadata": {},
   "source": [
    "## IFCE - Campus Maranguape\n"
   ]
  },
  {
   "cell_type": "markdown",
   "id": "9c4f168b",
   "metadata": {},
   "source": [
    "### Dupla: Maria Thais e Amauriane Braga "
   ]
  },
  {
   "cell_type": "markdown",
   "id": "48d822d3",
   "metadata": {},
   "source": [
    "### - Questões "
   ]
  },
  {
   "cell_type": "markdown",
   "id": "6a2c7e2e",
   "metadata": {},
   "source": [
    "1. Crie um programa que leia três valores e verifique se esses valores formam um triângulo."
   ]
  },
  {
   "cell_type": "code",
   "execution_count": null,
   "id": "76fc8fbb",
   "metadata": {
    "scrolled": false
   },
   "outputs": [],
   "source": [
    "a = int(input(\"Valor do lado A = \"))  #Em a, b e c recebemos os valores dos três lados do triângulo.\n",
    "b = int(input(\"Valor do lado B = \"))\n",
    "c = int(input(\"Valor do lado C = \"))"
   ]
  },
  {
   "cell_type": "code",
   "execution_count": null,
   "id": "df8691e2",
   "metadata": {
    "scrolled": true
   },
   "outputs": [],
   "source": [
    "if (a + b > c and b + c > a and c + a > b):#nesse if, verificamos se a soma de dois lados do triângulo são maior que o terceiro,\n",
    "    print(\"É um triângulo!\")               #se sim, ele se encaixa como um triângulo.\n",
    "else:\n",
    "    print(\"Não é um triângulo!\")           #Caso a condição do if não seja aceita, ele não se encaixa como um triângulo."
   ]
  },
  {
   "cell_type": "markdown",
   "id": "8f3af4f0",
   "metadata": {},
   "source": [
    "<b>Outra forma</b>"
   ]
  },
  {
   "cell_type": "code",
   "execution_count": null,
   "id": "bbf9526e",
   "metadata": {},
   "outputs": [],
   "source": [
    "while True:\n",
    "    \n",
    "    try:\n",
    "        a = float(input(\"Valor do lado A = \"))\n",
    "        b = float(input(\"Valor do lado B = \"))\n",
    "        c = float(input(\"Valor do lado C = \"))\n",
    "    except:\n",
    "        print(\"Entre com numeros para os valores a, b e c.\")\n",
    "    else:\n",
    "        if a =< 0 or b =< 0 or c =<0:\n",
    "            print(\"não é permitido números negativos ou nulos\")\n",
    "        else:\n",
    "            \n",
    "            if (a + b > c and b + c > a and c + a > b):\n",
    "                print(\"É um triângulo!\")\n",
    "            else:\n",
    "                print(\"Não é um triângulo!\")\n",
    "\n",
    "\n",
    "            opcao = input(\"Deseja continuar S/N: \").upper()\n",
    "\n",
    "            if opcao == \"N\":\n",
    "                break\n",
    "    \n",
    "    "
   ]
  },
  {
   "cell_type": "markdown",
   "id": "6dd69ebe",
   "metadata": {},
   "source": [
    "2. Modifique o programa anterior para identificar o tipo de triângulo (se possível formar): equilátero (todos lados iguais), isósceles (dois lados iguais) ou escaleno (todos os lados diferentes). Crie uma função com retorno booleano para cada tipo de triângulo."
   ]
  },
  {
   "cell_type": "code",
   "execution_count": null,
   "id": "248085da",
   "metadata": {},
   "outputs": [],
   "source": [
    "a = input(\"Valor do lado A = \")  # Aqui novamente recebemos os valores de a, b e c.\n",
    "b = input(\"Valor do lado B = \")\n",
    "c = input(\"Valor do lado C = \")"
   ]
  },
  {
   "cell_type": "code",
   "execution_count": null,
   "id": "c883954c",
   "metadata": {},
   "outputs": [],
   "source": [
    "if (a + b < c and b + c < a and c + a < b): # Aqui está uma condição que não se encaixa em um triângulo.\n",
    "    print(\"Não é um triângulo\")\n",
    "else:\n",
    "    if a == b and a == c:                 #Se os lados forem iguais, ele é considerado um triângulo equilátero.\n",
    "        print(\"É um triângulo equilátero\")\n",
    "    elif a == b or b == c or c == a:\n",
    "        print(\"É um triângulo isósceles\") # Caso somente dois lados forem iguais e apenas um diferente, é considerado isósceles. \n",
    "    else:\n",
    "        print(\"É um triângulo escaleno\")  # E se não for nenhuma das condições acima, ou seja, os três lados diferentes, será um\n",
    "                                          # triângulo escaleno."
   ]
  },
  {
   "cell_type": "markdown",
   "id": "46ce6472",
   "metadata": {},
   "source": [
    "<b>Outra forma</b>"
   ]
  },
  {
   "cell_type": "code",
   "execution_count": null,
   "id": "8406d6a6",
   "metadata": {},
   "outputs": [],
   "source": [
    "while True:\n",
    "    \n",
    "    try:\n",
    "        a = float(input(\"Valor do lado A = \"))\n",
    "        b = float(input(\"Valor do lado B = \"))\n",
    "        c = float(input(\"Valor do lado C = \"))\n",
    "    except:\n",
    "        print(\"Entre com numeros para os valores a, b e c.\")\n",
    "    else:\n",
    "        if a =< 0 or b =< 0 or c =<0:\n",
    "            print(\"não é permitido números negativos ou nulos\")\n",
    "        else:\n",
    "            \n",
    "            if (a + b > c and b + c > a and c + a > b):\n",
    "                print(\"É um triângulo!\", end=\"\")\n",
    "                \n",
    "                if a == b and b == c:\n",
    "                    print(\"É um triângulo equilátero\")\n",
    "                else:\n",
    "                    if a == b or b == c or c == a:\n",
    "                        print(\"É um triângulo isósceles\")\n",
    "                    else:\n",
    "                        print(\"É um triângulo escaleno\")\n",
    "            else:\n",
    "                print(\"Não é um triângulo!\")\n",
    "\n",
    "\n",
    "            opcao = input(\"Deseja continuar S/N: \").upper()\n",
    "\n",
    "            if opcao == \"N\":\n",
    "                break"
   ]
  },
  {
   "cell_type": "markdown",
   "id": "e345b29c",
   "metadata": {},
   "source": [
    "3. Modifique o programa da calculadora para ler uma opção do usuário, ler dois números e chamar uma função da operação correspondente. Crie as quatro funções recebendo dois valores e retornando o resultado. Caso o usuário escolha uma opção inexistente, escreva Opção Inválida."
   ]
  },
  {
   "cell_type": "code",
   "execution_count": null,
   "id": "a67935d0",
   "metadata": {},
   "outputs": [],
   "source": [
    "def menu():                          # Função menu, que mostra as opções da calculadora.\n",
    "    print(20*\"-\")                    # Repete o \"-\" 20 vezes.\n",
    "    print(f\"{'Calculadora':^20}\")\n",
    "    print(20*\"-\")\n",
    "    print(\"Opções\")\n",
    "    print(\"[1] Somar\")\n",
    "    print(\"[2] Subtrair\")\n",
    "    print(\"[3] Multiplicar\")\n",
    "    print(\"[4] Dividir\")\n",
    "    print(20*\"-\")\n",
    "    p = int(input(\"Digite a opção escolhida :\")) #Aqui escolhemos entre as quatro operações básicas.\n",
    "    if p == 1:    # Se a opção for igual a 1, chamará a função para somar dois números, e assim sucessivamente. \n",
    "        somar()\n",
    "    elif p == 2:\n",
    "        subtrair()\n",
    "    elif p == 3:\n",
    "        multiplicar()\n",
    "    elif p == 4:\n",
    "        dividir()\n",
    "    else:\n",
    "        print(\"Opção Inválida\")                 # Se a opção não estiver entre 1 e 4, será inválida."
   ]
  },
  {
   "cell_type": "code",
   "execution_count": null,
   "id": "e27e2f74",
   "metadata": {},
   "outputs": [],
   "source": [
    "def somar(): #Função somar, que será chamada no if, onde retorna a soma entre dois números.\n",
    "    num1 = float(input(\"Digite o primeiro número: \"))\n",
    "    num2 = float(input(\"Digite o segundo número: \"))\n",
    "    print(f'O resultado é: ')\n",
    "    print(num1 + num2)\n",
    "\n",
    "def subtrair(): #Função somar, que será chamada no elif, onde retorna a subtração entre dois números.\n",
    "    num1 = float(input(\"Digite o primeiro número: \"))\n",
    "    num2 = float(input(\"Digite o segundo número: \"))\n",
    "    print(f'O resultado é: ')\n",
    "    print(num1 - num2)\n",
    "    \n",
    "def multiplicar(): #Função somar, que será chamada no elif, onde retorna a multiplicação entre dois números.\n",
    "    num1 = float(input(\"Digite o primeiro número: \"))\n",
    "    num2 = float(input(\"Digite o segundo número: \"))\n",
    "    print(f'O resultado é: ')\n",
    "    print(num1 * num2)\n",
    "     \n",
    "def dividir(): #Função somar, que será chamada no elif, onde retorna a divisão entre dois números.\n",
    "    num1 = float(input(\"Digite o primeiro número: \"))\n",
    "    num2 = float(input(\"Digite o segundo número: \"))\n",
    "    print(f'O resultado é: ')\n",
    "    print(num1 / num2)\n",
    "menu()                                       # A função menu será chamada novamente\n"
   ]
  },
  {
   "cell_type": "markdown",
   "id": "7dabfef1",
   "metadata": {},
   "source": [
    "4. Crie um programa para jogar Pedra Papel Tesoura contra o computador."
   ]
  },
  {
   "cell_type": "code",
   "execution_count": null,
   "id": "5cc381f6",
   "metadata": {},
   "outputs": [],
   "source": [
    "from random import randint   #Importa o recurso para gerar dados aleatoriamente\n",
    "\n",
    "elementos = ('Pedra', 'Papel', 'Tesoura')  # Elementos para jogar o joquenpo\n",
    "\n",
    "comp = randint(0, 2)         #Gera aleatoriamente entre 0 e 2 \n",
    "\n",
    "print(\"    JOQUENPO    \")    # Os print abaixo formam o \"menu\" do jogo\n",
    "print(20*\"-\")\n",
    "print(\" [0]Pedra\")\n",
    "print(\" [1]Papel\")\n",
    "print(\" [2]Tesoura\")\n",
    "print(20*\"-\")\n",
    "\n",
    "jogador = int(input(\"Digite sua jogada: \"))   #Aqui será a jogada do usuário \n",
    "\n",
    "if jogador == 0:\n",
    "    print('O computador escolheu: Pedra')     #Se a jogada do usuário for 0 e do pc 0 = empate, se for 0 e do pc 1 = usuário vence,\n",
    "    if comp == 0:                             # se for 0 e o pc for 2, o computador vence.\n",
    "        print(\"Empate!\")\n",
    "    elif comp == 1:\n",
    "        print(\"Você venceu!\")\n",
    "    \n",
    "    elif comp == 2:\n",
    "        print(\"Computador venceu!\")\n",
    "\n",
    "elif jogador == 1:\n",
    "    print('O computador escolheu: Papel')     #Se a jogada do usuário for 1 e do pc 0 = o computador vence, se for 1 e do pc 1 = empate,\n",
    "    if comp == 0:                             #se for 1 e do pc 2=  o usuário vence\n",
    "        print(\"Computador venceu\")\n",
    "    elif comp == 1:\n",
    "        print(\"Empate!\")\n",
    "    elif comp == 2:\n",
    "        print(\"Você venceu!\")\n",
    "    else:\n",
    "        print(\"Operacao invalida\")\n",
    "elif jogador == 2:\n",
    "    print('O computador escolheu: Tesoura')  #Se a jogada do usuário for 2 e do pc 0 = o usuário vence, se for 2 e do pc 1, o computador vence,\n",
    "    if comp == 0:                            #se for 2 e o do pc 2 = empate.\n",
    "        print(\"Você venceu!\")\n",
    "    \n",
    "    elif comp == 1:\n",
    "        print(\"Computador venceu!\")\n",
    "    \n",
    "    elif comp == 2:\n",
    "        print(\"Empate!\")\n",
    "else:\n",
    "    print(\"Operacao invalida\")\n"
   ]
  },
  {
   "cell_type": "code",
   "execution_count": null,
   "id": "d3223808",
   "metadata": {},
   "outputs": [],
   "source": []
  }
 ],
 "metadata": {
  "kernelspec": {
   "display_name": "Python 3 (ipykernel)",
   "language": "python",
   "name": "python3"
  },
  "language_info": {
   "codemirror_mode": {
    "name": "ipython",
    "version": 3
   },
   "file_extension": ".py",
   "mimetype": "text/x-python",
   "name": "python",
   "nbconvert_exporter": "python",
   "pygments_lexer": "ipython3",
   "version": "3.8.10"
  }
 },
 "nbformat": 4,
 "nbformat_minor": 5
}
